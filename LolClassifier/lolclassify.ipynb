{
 "cells": [
  {
   "cell_type": "code",
   "execution_count": 35,
   "id": "84c10acb",
   "metadata": {},
   "outputs": [],
   "source": [
    "# import pandas and rename as pd\n",
    "import pandas as pd"
   ]
  },
  {
   "cell_type": "code",
   "execution_count": 36,
   "id": "c7145a18",
   "metadata": {},
   "outputs": [],
   "source": [
    "# set the path to our file\n",
    "path = 'LoLChampions.csv'\n",
    "# convert our csv file to a pandas DataFrame\n",
    "# converters allows pandas to know that abilities is a list, not a string\n",
    "LoLChampions = pd.read_csv(path)"
   ]
  },
  {
   "cell_type": "code",
   "execution_count": 37,
   "id": "c35a202e",
   "metadata": {},
   "outputs": [
    {
     "data": {
      "text/html": [
       "<div>\n",
       "<style scoped>\n",
       "    .dataframe tbody tr th:only-of-type {\n",
       "        vertical-align: middle;\n",
       "    }\n",
       "\n",
       "    .dataframe tbody tr th {\n",
       "        vertical-align: top;\n",
       "    }\n",
       "\n",
       "    .dataframe thead th {\n",
       "        text-align: right;\n",
       "    }\n",
       "</style>\n",
       "<table border=\"1\" class=\"dataframe\">\n",
       "  <thead>\n",
       "    <tr style=\"text-align: right;\">\n",
       "      <th></th>\n",
       "      <th>champname</th>\n",
       "      <th>title</th>\n",
       "      <th>lore</th>\n",
       "      <th>hp</th>\n",
       "      <th>armor</th>\n",
       "      <th>magicResist</th>\n",
       "      <th>attackRange</th>\n",
       "      <th>attackDamage</th>\n",
       "      <th>attackSpeed</th>\n",
       "      <th>q_name</th>\n",
       "      <th>q_description</th>\n",
       "      <th>w_name</th>\n",
       "      <th>w_description</th>\n",
       "      <th>e_name</th>\n",
       "      <th>e_description</th>\n",
       "      <th>r_name</th>\n",
       "      <th>r_description</th>\n",
       "    </tr>\n",
       "  </thead>\n",
       "  <tbody>\n",
       "    <tr>\n",
       "      <th>0</th>\n",
       "      <td>Aatrox</td>\n",
       "      <td>the Darkin Blade</td>\n",
       "      <td>Once honored defenders of Shurima against the ...</td>\n",
       "      <td>580</td>\n",
       "      <td>38</td>\n",
       "      <td>32</td>\n",
       "      <td>175</td>\n",
       "      <td>60</td>\n",
       "      <td>0.651</td>\n",
       "      <td>The Darkin Blade</td>\n",
       "      <td>Aatrox slams his greatsword down, dealing phys...</td>\n",
       "      <td>Infernal Chains</td>\n",
       "      <td>Aatrox smashes the ground, dealing damage to t...</td>\n",
       "      <td>Umbral Dash</td>\n",
       "      <td>Passively, Aatrox heals when damaging enemy ch...</td>\n",
       "      <td>World Ender</td>\n",
       "      <td>Aatrox unleashes his demonic form, fearing nea...</td>\n",
       "    </tr>\n",
       "    <tr>\n",
       "      <th>1</th>\n",
       "      <td>Ahri</td>\n",
       "      <td>the Nine-Tailed Fox</td>\n",
       "      <td>Innately connected to the latent power of Rune...</td>\n",
       "      <td>526</td>\n",
       "      <td>21</td>\n",
       "      <td>30</td>\n",
       "      <td>550</td>\n",
       "      <td>53</td>\n",
       "      <td>0.668</td>\n",
       "      <td>Orb of Deception</td>\n",
       "      <td>Ahri sends out and pulls back her orb, dealing...</td>\n",
       "      <td>Fox-Fire</td>\n",
       "      <td>Ahri gains a brief burst of movement speed and...</td>\n",
       "      <td>Charm</td>\n",
       "      <td>Ahri blows a kiss that damages and charms an e...</td>\n",
       "      <td>Spirit Rush</td>\n",
       "      <td>Ahri dashes forward and fires essence bolts, d...</td>\n",
       "    </tr>\n",
       "    <tr>\n",
       "      <th>2</th>\n",
       "      <td>Akali</td>\n",
       "      <td>the Rogue Assassin</td>\n",
       "      <td>Abandoning the Kinkou Order and her title of t...</td>\n",
       "      <td>500</td>\n",
       "      <td>23</td>\n",
       "      <td>37</td>\n",
       "      <td>125</td>\n",
       "      <td>62</td>\n",
       "      <td>0.625</td>\n",
       "      <td>Five Point Strike</td>\n",
       "      <td>Akali throws out five kunai, dealing damage ba...</td>\n",
       "      <td>Twilight Shroud</td>\n",
       "      <td>Akali drops a cover of smoke and briefly gains...</td>\n",
       "      <td>Shuriken Flip</td>\n",
       "      <td>Flip backward and fire a shuriken forward, dea...</td>\n",
       "      <td>Perfect Execution</td>\n",
       "      <td>Akali leaps in a direction, damaging enemies s...</td>\n",
       "    </tr>\n",
       "    <tr>\n",
       "      <th>3</th>\n",
       "      <td>Akshan</td>\n",
       "      <td>the Rogue Sentinel</td>\n",
       "      <td>Raising an eyebrow in the face of danger, Aksh...</td>\n",
       "      <td>560</td>\n",
       "      <td>26</td>\n",
       "      <td>30</td>\n",
       "      <td>500</td>\n",
       "      <td>52</td>\n",
       "      <td>0.638</td>\n",
       "      <td>Avengerang</td>\n",
       "      <td>Akshan throws a boomerang that deals damage go...</td>\n",
       "      <td>Going Rogue</td>\n",
       "      <td>Akshan passively marks enemy champions as Scou...</td>\n",
       "      <td>Heroic Swing</td>\n",
       "      <td>Akshan fires a grappling hook into terrain the...</td>\n",
       "      <td>Comeuppance</td>\n",
       "      <td>Akshan locks onto an enemy champion and starts...</td>\n",
       "    </tr>\n",
       "    <tr>\n",
       "      <th>4</th>\n",
       "      <td>Alistar</td>\n",
       "      <td>the Minotaur</td>\n",
       "      <td>Always a mighty warrior with a fearsome reputa...</td>\n",
       "      <td>600</td>\n",
       "      <td>44</td>\n",
       "      <td>32</td>\n",
       "      <td>125</td>\n",
       "      <td>62</td>\n",
       "      <td>0.625</td>\n",
       "      <td>Pulverize</td>\n",
       "      <td>Alistar smashes the ground, dealing damage to ...</td>\n",
       "      <td>Headbutt</td>\n",
       "      <td>Alistar rams a target with his head, dealing d...</td>\n",
       "      <td>Trample</td>\n",
       "      <td>Alistar tramples nearby enemy units, ignoring ...</td>\n",
       "      <td>Unbreakable Will</td>\n",
       "      <td>Alistar lets out a wild roar, removing all cro...</td>\n",
       "    </tr>\n",
       "    <tr>\n",
       "      <th>...</th>\n",
       "      <td>...</td>\n",
       "      <td>...</td>\n",
       "      <td>...</td>\n",
       "      <td>...</td>\n",
       "      <td>...</td>\n",
       "      <td>...</td>\n",
       "      <td>...</td>\n",
       "      <td>...</td>\n",
       "      <td>...</td>\n",
       "      <td>...</td>\n",
       "      <td>...</td>\n",
       "      <td>...</td>\n",
       "      <td>...</td>\n",
       "      <td>...</td>\n",
       "      <td>...</td>\n",
       "      <td>...</td>\n",
       "      <td>...</td>\n",
       "    </tr>\n",
       "    <tr>\n",
       "      <th>152</th>\n",
       "      <td>Zed</td>\n",
       "      <td>the Master of Shadows</td>\n",
       "      <td>Utterly ruthless and without mercy, Zed is the...</td>\n",
       "      <td>584</td>\n",
       "      <td>32</td>\n",
       "      <td>32</td>\n",
       "      <td>125</td>\n",
       "      <td>63</td>\n",
       "      <td>0.651</td>\n",
       "      <td>Razor Shuriken</td>\n",
       "      <td>Zed and his shadows throw their shurikens.&lt;br&gt;...</td>\n",
       "      <td>Living Shadow</td>\n",
       "      <td>&lt;font color='#FF9900'&gt;Passive:&lt;/font&gt; Zed gain...</td>\n",
       "      <td>Shadow Slash</td>\n",
       "      <td>Zed and his shadows slash, dealing damage to n...</td>\n",
       "      <td>Death Mark</td>\n",
       "      <td>Zed becomes untargetable and dashes to an enem...</td>\n",
       "    </tr>\n",
       "    <tr>\n",
       "      <th>153</th>\n",
       "      <td>Ziggs</td>\n",
       "      <td>the Hexplosives Expert</td>\n",
       "      <td>With a love of big bombs and short fuses, the ...</td>\n",
       "      <td>536</td>\n",
       "      <td>22</td>\n",
       "      <td>30</td>\n",
       "      <td>550</td>\n",
       "      <td>54</td>\n",
       "      <td>0.656</td>\n",
       "      <td>Bouncing Bomb</td>\n",
       "      <td>Ziggs throws a bouncing bomb that deals magic ...</td>\n",
       "      <td>Satchel Charge</td>\n",
       "      <td>Ziggs flings an explosive charge that detonate...</td>\n",
       "      <td>Hexplosive Minefield</td>\n",
       "      <td>Ziggs scatters proximity mines that detonate o...</td>\n",
       "      <td>Mega Inferno Bomb</td>\n",
       "      <td>Ziggs deploys his ultimate creation, the Mega ...</td>\n",
       "    </tr>\n",
       "    <tr>\n",
       "      <th>154</th>\n",
       "      <td>Zilean</td>\n",
       "      <td>the Chronokeeper</td>\n",
       "      <td>Once a powerful Icathian mage, Zilean became o...</td>\n",
       "      <td>504</td>\n",
       "      <td>24</td>\n",
       "      <td>30</td>\n",
       "      <td>550</td>\n",
       "      <td>52</td>\n",
       "      <td>0.625</td>\n",
       "      <td>Time Bomb</td>\n",
       "      <td>Tosses a bomb to target area that sticks to un...</td>\n",
       "      <td>Rewind</td>\n",
       "      <td>Zilean can prepare himself for future confront...</td>\n",
       "      <td>Time Warp</td>\n",
       "      <td>Zilean bends time around any unit, decreasing ...</td>\n",
       "      <td>Chronoshift</td>\n",
       "      <td>Zilean places a protective time rune on an all...</td>\n",
       "    </tr>\n",
       "    <tr>\n",
       "      <th>155</th>\n",
       "      <td>Zoe</td>\n",
       "      <td>the Aspect of Twilight</td>\n",
       "      <td>As the embodiment of mischief, imagination, an...</td>\n",
       "      <td>560</td>\n",
       "      <td>21</td>\n",
       "      <td>30</td>\n",
       "      <td>550</td>\n",
       "      <td>58</td>\n",
       "      <td>0.625</td>\n",
       "      <td>Paddle Star!</td>\n",
       "      <td>Zoe fires a missile that she can redirect in f...</td>\n",
       "      <td>Spell Thief</td>\n",
       "      <td>Zoe can pick up the remnants of enemy summoner...</td>\n",
       "      <td>Sleepy Trouble Bubble</td>\n",
       "      <td>Causes the target to become drowsy, then fall ...</td>\n",
       "      <td>Portal Jump</td>\n",
       "      <td>Blink to a nearby position for 1 second. Then ...</td>\n",
       "    </tr>\n",
       "    <tr>\n",
       "      <th>156</th>\n",
       "      <td>Zyra</td>\n",
       "      <td>Rise of the Thorns</td>\n",
       "      <td>Born in an ancient, sorcerous catastrophe, Zyr...</td>\n",
       "      <td>504</td>\n",
       "      <td>29</td>\n",
       "      <td>30</td>\n",
       "      <td>575</td>\n",
       "      <td>53</td>\n",
       "      <td>0.625</td>\n",
       "      <td>Deadly Spines</td>\n",
       "      <td>Thick vines spread through the ground and expl...</td>\n",
       "      <td>Rampant Growth</td>\n",
       "      <td>Zyra plants a seed, lasting up to 60 seconds. ...</td>\n",
       "      <td>Grasping Roots</td>\n",
       "      <td>Zyra sends forth vines through the ground to e...</td>\n",
       "      <td>Stranglethorns</td>\n",
       "      <td>Zyra summons a twisted thicket at her target l...</td>\n",
       "    </tr>\n",
       "  </tbody>\n",
       "</table>\n",
       "<p>157 rows × 17 columns</p>\n",
       "</div>"
      ],
      "text/plain": [
       "    champname                   title  \\\n",
       "0      Aatrox        the Darkin Blade   \n",
       "1        Ahri     the Nine-Tailed Fox   \n",
       "2       Akali      the Rogue Assassin   \n",
       "3      Akshan      the Rogue Sentinel   \n",
       "4     Alistar            the Minotaur   \n",
       "..        ...                     ...   \n",
       "152       Zed   the Master of Shadows   \n",
       "153     Ziggs  the Hexplosives Expert   \n",
       "154    Zilean        the Chronokeeper   \n",
       "155       Zoe  the Aspect of Twilight   \n",
       "156      Zyra      Rise of the Thorns   \n",
       "\n",
       "                                                  lore   hp  armor  \\\n",
       "0    Once honored defenders of Shurima against the ...  580     38   \n",
       "1    Innately connected to the latent power of Rune...  526     21   \n",
       "2    Abandoning the Kinkou Order and her title of t...  500     23   \n",
       "3    Raising an eyebrow in the face of danger, Aksh...  560     26   \n",
       "4    Always a mighty warrior with a fearsome reputa...  600     44   \n",
       "..                                                 ...  ...    ...   \n",
       "152  Utterly ruthless and without mercy, Zed is the...  584     32   \n",
       "153  With a love of big bombs and short fuses, the ...  536     22   \n",
       "154  Once a powerful Icathian mage, Zilean became o...  504     24   \n",
       "155  As the embodiment of mischief, imagination, an...  560     21   \n",
       "156  Born in an ancient, sorcerous catastrophe, Zyr...  504     29   \n",
       "\n",
       "     magicResist  attackRange  attackDamage  attackSpeed             q_name  \\\n",
       "0             32          175            60        0.651   The Darkin Blade   \n",
       "1             30          550            53        0.668   Orb of Deception   \n",
       "2             37          125            62        0.625  Five Point Strike   \n",
       "3             30          500            52        0.638         Avengerang   \n",
       "4             32          125            62        0.625          Pulverize   \n",
       "..           ...          ...           ...          ...                ...   \n",
       "152           32          125            63        0.651     Razor Shuriken   \n",
       "153           30          550            54        0.656      Bouncing Bomb   \n",
       "154           30          550            52        0.625          Time Bomb   \n",
       "155           30          550            58        0.625       Paddle Star!   \n",
       "156           30          575            53        0.625      Deadly Spines   \n",
       "\n",
       "                                         q_description           w_name  \\\n",
       "0    Aatrox slams his greatsword down, dealing phys...  Infernal Chains   \n",
       "1    Ahri sends out and pulls back her orb, dealing...         Fox-Fire   \n",
       "2    Akali throws out five kunai, dealing damage ba...  Twilight Shroud   \n",
       "3    Akshan throws a boomerang that deals damage go...      Going Rogue   \n",
       "4    Alistar smashes the ground, dealing damage to ...         Headbutt   \n",
       "..                                                 ...              ...   \n",
       "152  Zed and his shadows throw their shurikens.<br>...    Living Shadow   \n",
       "153  Ziggs throws a bouncing bomb that deals magic ...   Satchel Charge   \n",
       "154  Tosses a bomb to target area that sticks to un...           Rewind   \n",
       "155  Zoe fires a missile that she can redirect in f...      Spell Thief   \n",
       "156  Thick vines spread through the ground and expl...   Rampant Growth   \n",
       "\n",
       "                                         w_description                 e_name  \\\n",
       "0    Aatrox smashes the ground, dealing damage to t...            Umbral Dash   \n",
       "1    Ahri gains a brief burst of movement speed and...                  Charm   \n",
       "2    Akali drops a cover of smoke and briefly gains...          Shuriken Flip   \n",
       "3    Akshan passively marks enemy champions as Scou...           Heroic Swing   \n",
       "4    Alistar rams a target with his head, dealing d...                Trample   \n",
       "..                                                 ...                    ...   \n",
       "152  <font color='#FF9900'>Passive:</font> Zed gain...           Shadow Slash   \n",
       "153  Ziggs flings an explosive charge that detonate...   Hexplosive Minefield   \n",
       "154  Zilean can prepare himself for future confront...              Time Warp   \n",
       "155  Zoe can pick up the remnants of enemy summoner...  Sleepy Trouble Bubble   \n",
       "156  Zyra plants a seed, lasting up to 60 seconds. ...         Grasping Roots   \n",
       "\n",
       "                                         e_description             r_name  \\\n",
       "0    Passively, Aatrox heals when damaging enemy ch...        World Ender   \n",
       "1    Ahri blows a kiss that damages and charms an e...        Spirit Rush   \n",
       "2    Flip backward and fire a shuriken forward, dea...  Perfect Execution   \n",
       "3    Akshan fires a grappling hook into terrain the...        Comeuppance   \n",
       "4    Alistar tramples nearby enemy units, ignoring ...   Unbreakable Will   \n",
       "..                                                 ...                ...   \n",
       "152  Zed and his shadows slash, dealing damage to n...         Death Mark   \n",
       "153  Ziggs scatters proximity mines that detonate o...  Mega Inferno Bomb   \n",
       "154  Zilean bends time around any unit, decreasing ...        Chronoshift   \n",
       "155  Causes the target to become drowsy, then fall ...        Portal Jump   \n",
       "156  Zyra sends forth vines through the ground to e...     Stranglethorns   \n",
       "\n",
       "                                         r_description  \n",
       "0    Aatrox unleashes his demonic form, fearing nea...  \n",
       "1    Ahri dashes forward and fires essence bolts, d...  \n",
       "2    Akali leaps in a direction, damaging enemies s...  \n",
       "3    Akshan locks onto an enemy champion and starts...  \n",
       "4    Alistar lets out a wild roar, removing all cro...  \n",
       "..                                                 ...  \n",
       "152  Zed becomes untargetable and dashes to an enem...  \n",
       "153  Ziggs deploys his ultimate creation, the Mega ...  \n",
       "154  Zilean places a protective time rune on an all...  \n",
       "155  Blink to a nearby position for 1 second. Then ...  \n",
       "156  Zyra summons a twisted thicket at her target l...  \n",
       "\n",
       "[157 rows x 17 columns]"
      ]
     },
     "execution_count": 37,
     "metadata": {},
     "output_type": "execute_result"
    }
   ],
   "source": [
    "# print out our dataset\n",
    "LoLChampions"
   ]
  },
  {
   "cell_type": "code",
   "execution_count": 38,
   "id": "b5efd82b",
   "metadata": {},
   "outputs": [
    {
     "data": {
      "text/plain": [
       "0       Aatrox\n",
       "1         Ahri\n",
       "2        Akali\n",
       "3       Akshan\n",
       "4      Alistar\n",
       "        ...   \n",
       "152        Zed\n",
       "153      Ziggs\n",
       "154     Zilean\n",
       "155        Zoe\n",
       "156       Zyra\n",
       "Name: champname, Length: 157, dtype: object"
      ]
     },
     "execution_count": 38,
     "metadata": {},
     "output_type": "execute_result"
    }
   ],
   "source": [
    "# we can use dot notation, because we are using the pandas library AND\n",
    "# no space in the column\n",
    "champname = LoLChampions.champname\n",
    "LoLChampions.champname"
   ]
  },
  {
   "cell_type": "code",
   "execution_count": 39,
   "id": "fb9abeed",
   "metadata": {},
   "outputs": [
    {
     "data": {
      "text/plain": [
       "'Aatrox'"
      ]
     },
     "execution_count": 39,
     "metadata": {},
     "output_type": "execute_result"
    }
   ],
   "source": [
    "# print the array of champname for the first champion\n",
    "champname[0]"
   ]
  },
  {
   "cell_type": "code",
   "execution_count": 40,
   "id": "a36bb6cd",
   "metadata": {},
   "outputs": [
    {
     "data": {
      "text/plain": [
       "str"
      ]
     },
     "execution_count": 40,
     "metadata": {},
     "output_type": "execute_result"
    }
   ],
   "source": [
    "# check what data type this is\n",
    "type(champname[0])"
   ]
  },
  {
   "cell_type": "code",
   "execution_count": 41,
   "id": "c255293f",
   "metadata": {},
   "outputs": [
    {
     "data": {
      "text/plain": [
       "64"
      ]
     },
     "execution_count": 41,
     "metadata": {},
     "output_type": "execute_result"
    }
   ],
   "source": [
    "# see how many different hp types there are\n",
    "len(LoLChampions.hp.unique())"
   ]
  },
  {
   "cell_type": "code",
   "execution_count": 42,
   "id": "668d9c63",
   "metadata": {},
   "outputs": [
    {
     "data": {
      "text/plain": [
       "0.015625"
      ]
     },
     "execution_count": 42,
     "metadata": {},
     "output_type": "execute_result"
    }
   ],
   "source": [
    "1/64"
   ]
  },
  {
   "cell_type": "code",
   "execution_count": 43,
   "id": "49a9c5d6",
   "metadata": {},
   "outputs": [],
   "source": [
    "# defining our features\n",
    "# key-value pairs\n",
    "# the keys will be the same for everyone, the values will differ\n",
    "# JUST AN EXAMPLE\n",
    "# title define champions"
   ]
  },
  {
   "cell_type": "code",
   "execution_count": 64,
   "id": "5bc04c31",
   "metadata": {},
   "outputs": [],
   "source": [
    "armor_data = LoLChampions.armor\n",
    "hp_data = LoLChampions.hp\n",
    "w_name_data = LoLChampions.w_name\n",
    "attackDamage_data = LoLChampions.attackDamage\n",
    "attackSpeed_data = LoLChampions.attackSpeed"
   ]
  },
  {
   "cell_type": "code",
   "execution_count": 65,
   "id": "d3f6d079",
   "metadata": {},
   "outputs": [],
   "source": [
    "# our first function!\n",
    "def create_features(data_in):\n",
    "    return {'attackSpeed_data':data_in}"
   ]
  },
  {
   "cell_type": "code",
   "execution_count": 66,
   "id": "b57f2949",
   "metadata": {},
   "outputs": [
    {
     "data": {
      "text/plain": [
       "<zip at 0x293a5d03040>"
      ]
     },
     "execution_count": 66,
     "metadata": {},
     "output_type": "execute_result"
    }
   ],
   "source": [
    "# zip combines our two columns\n",
    "# we are making tuples\n",
    "# syntax for tuple (thing1, thing2)\n",
    "# {'champname': name[0], 'title': name[1]}\n",
    "features_and_labels = zip(attackSpeed_data, hp_data)\n",
    "features_and_labels"
   ]
  },
  {
   "cell_type": "code",
   "execution_count": 67,
   "id": "3c7ab64c",
   "metadata": {},
   "outputs": [
    {
     "data": {
      "text/plain": [
       "[({'attackSpeed_data': 0.651}, 580),\n",
       " ({'attackSpeed_data': 0.668}, 526),\n",
       " ({'attackSpeed_data': 0.625}, 500),\n",
       " ({'attackSpeed_data': 0.638}, 560),\n",
       " ({'attackSpeed_data': 0.625}, 600),\n",
       " ({'attackSpeed_data': 0.736}, 615),\n",
       " ({'attackSpeed_data': 0.625}, 480),\n",
       " ({'attackSpeed_data': 0.579}, 524),\n",
       " ({'attackSpeed_data': 0.64}, 530),\n",
       " ({'attackSpeed_data': 0.658}, 570),\n",
       " ({'attackSpeed_data': 0.625}, 575),\n",
       " ({'attackSpeed_data': 0.625}, 552),\n",
       " ({'attackSpeed_data': 0.625}, 560),\n",
       " ({'attackSpeed_data': 0.625}, 583),\n",
       " ({'attackSpeed_data': 0.625}, 520),\n",
       " ({'attackSpeed_data': 0.644}, 540),\n",
       " ({'attackSpeed_data': 0.681}, 510),\n",
       " ({'attackSpeed_data': 0.644}, 576),\n",
       " ({'attackSpeed_data': 0.647}, 560),\n",
       " ({'attackSpeed_data': 0.625}, 574),\n",
       " ({'attackSpeed_data': 0.638}, 518),\n",
       " ({'attackSpeed_data': 0.625}, 582),\n",
       " ({'attackSpeed_data': 0.625}, 570),\n",
       " ({'attackSpeed_data': 0.679}, 605),\n",
       " ({'attackSpeed_data': 0.72}, 583),\n",
       " ({'attackSpeed_data': 0.688}, 585),\n",
       " ({'attackSpeed_data': 0.625}, 555),\n",
       " ({'attackSpeed_data': 0.667}, 572),\n",
       " ({'attackSpeed_data': 0.625}, 530),\n",
       " ({'attackSpeed_data': 0.625}, 580),\n",
       " ({'attackSpeed_data': 0.69}, 550),\n",
       " ({'attackSpeed_data': 0.658}, 570),\n",
       " ({'attackSpeed_data': 0.625}, 562),\n",
       " ({'attackSpeed_data': 0.658}, 570),\n",
       " ({'attackSpeed_data': 0.625}, 620),\n",
       " ({'attackSpeed_data': 0.625}, 510),\n",
       " ({'attackSpeed_data': 0.675}, 600),\n",
       " ({'attackSpeed_data': 0.475}, 555),\n",
       " ({'attackSpeed_data': 0.69}, 550),\n",
       " ({'attackSpeed_data': 0.67}, 580),\n",
       " ({'attackSpeed_data': 0.625}, 488),\n",
       " ({'attackSpeed_data': 0.571}, 586),\n",
       " ({'attackSpeed_data': 0.656}, 520),\n",
       " ({'attackSpeed_data': 0.644}, 585),\n",
       " ({'attackSpeed_data': 0.625}, 500),\n",
       " ({'attackSpeed_data': 0.658}, 570),\n",
       " ({'attackSpeed_data': 0.638}, 593),\n",
       " ({'attackSpeed_data': 0.658}, 560),\n",
       " ({'attackSpeed_data': 0.625}, 585),\n",
       " ({'attackSpeed_data': 0.625}, 610),\n",
       " ({'attackSpeed_data': 0.644}, 600),\n",
       " ({'attackSpeed_data': 0.694}, 534),\n",
       " ({'attackSpeed_data': 0.625}, 534),\n",
       " ({'attackSpeed_data': 0.625}, 550),\n",
       " ({'attackSpeed_data': 0.64}, 576),\n",
       " ({'attackSpeed_data': 0.658}, 602),\n",
       " ({'attackSpeed_data': 0.625}, 600),\n",
       " ({'attackSpeed_data': 0.669}, 585),\n",
       " ({'attackSpeed_data': 0.625}, 541),\n",
       " ({'attackSpeed_data': 0.668}, 573),\n",
       " ({'attackSpeed_data': 0.625}, 540),\n",
       " ({'attackSpeed_data': 0.625}, 340),\n",
       " ({'attackSpeed_data': 0.665}, 565),\n",
       " ({'attackSpeed_data': 0.625}, 528),\n",
       " ({'attackSpeed_data': 0.651}, 575),\n",
       " ({'attackSpeed_data': 0.625}, 576),\n",
       " ({'attackSpeed_data': 0.625}, 580),\n",
       " ({'attackSpeed_data': 0.656}, 550),\n",
       " ({'attackSpeed_data': 0.638}, 571),\n",
       " ({'attackSpeed_data': 0.625}, 525),\n",
       " ({'attackSpeed_data': 0.669}, 490),\n",
       " ({'attackSpeed_data': 0.736}, 574),\n",
       " ({'attackSpeed_data': 0.625}, 510),\n",
       " ({'attackSpeed_data': 0.8}, 565),\n",
       " ({'attackSpeed_data': 0.679}, 599),\n",
       " ({'attackSpeed_data': 0.656}, 570),\n",
       " ({'attackSpeed_data': 0.711}, 540),\n",
       " ({'attackSpeed_data': 0.625}, 575),\n",
       " ({'attackSpeed_data': 0.625}, 560),\n",
       " ({'attackSpeed_data': 0.644}, 490),\n",
       " ({'attackSpeed_data': 0.638}, 561),\n",
       " ({'attackSpeed_data': 0.706}, 576),\n",
       " ({'attackSpeed_data': 0.625}, 540),\n",
       " ({'attackSpeed_data': 0.638}, 570),\n",
       " ({'attackSpeed_data': 0.721}, 585),\n",
       " ({'attackSpeed_data': 0.625}, 540),\n",
       " ({'attackSpeed_data': 0.694}, 575),\n",
       " ({'attackSpeed_data': 0.658}, 530),\n",
       " ({'attackSpeed_data': 0.625}, 590),\n",
       " ({'attackSpeed_data': 0.644}, 580),\n",
       " ({'attackSpeed_data': 0.625}, 540),\n",
       " ({'attackSpeed_data': 0.667}, 600),\n",
       " ({'attackSpeed_data': 0.688}, 590),\n",
       " ({'attackSpeed_data': 0.668}, 533),\n",
       " ({'attackSpeed_data': 0.635}, 540),\n",
       " ({'attackSpeed_data': 0.656}, 564),\n",
       " ({'attackSpeed_data': 0.667}, 570),\n",
       " ({'attackSpeed_data': 0.55}, 540),\n",
       " ({'attackSpeed_data': 0.665}, 590),\n",
       " ({'attackSpeed_data': 0.667}, 585),\n",
       " ({'attackSpeed_data': 0.625}, 560),\n",
       " ({'attackSpeed_data': 0.644}, 589),\n",
       " ({'attackSpeed_data': 0.625}, 575),\n",
       " ({'attackSpeed_data': 0.658}, 530),\n",
       " ({'attackSpeed_data': 0.688}, 560),\n",
       " ({'attackSpeed_data': 0.625}, 520),\n",
       " ({'attackSpeed_data': 0.669}, 500),\n",
       " ({'attackSpeed_data': 0.625}, 600),\n",
       " ({'attackSpeed_data': 0.694}, 560),\n",
       " ({'attackSpeed_data': 0.751}, 540),\n",
       " ({'attackSpeed_data': 0.658}, 595),\n",
       " ({'attackSpeed_data': 0.613}, 580),\n",
       " ({'attackSpeed_data': 0.679}, 545),\n",
       " ({'attackSpeed_data': 0.625}, 562),\n",
       " ({'attackSpeed_data': 0.625}, 580),\n",
       " ({'attackSpeed_data': 0.644}, 480),\n",
       " ({'attackSpeed_data': 0.625}, 535),\n",
       " ({'attackSpeed_data': 0.625}, 525),\n",
       " ({'attackSpeed_data': 0.645}, 525),\n",
       " ({'attackSpeed_data': 0.625}, 523),\n",
       " ({'attackSpeed_data': 0.658}, 570),\n",
       " ({'attackSpeed_data': 0.625}, 532),\n",
       " ({'attackSpeed_data': 0.625}, 588),\n",
       " ({'attackSpeed_data': 0.625}, 575),\n",
       " ({'attackSpeed_data': 0.69}, 528),\n",
       " ({'attackSpeed_data': 0.625}, 530),\n",
       " ({'attackSpeed_data': 0.656}, 559),\n",
       " ({'attackSpeed_data': 0.67}, 616),\n",
       " ({'attackSpeed_data': 0.67}, 626),\n",
       " ({'attackSpeed_data': 0.651}, 534),\n",
       " ({'attackSpeed_data': 0.679}, 612),\n",
       " ({'attackSpeed_data': 0.658}, 594),\n",
       " ({'attackSpeed_data': 0.625}, 585),\n",
       " ({'attackSpeed_data': 0.658}, 530),\n",
       " ({'attackSpeed_data': 0.658}, 515),\n",
       " ({'attackSpeed_data': 0.625}, 505),\n",
       " ({'attackSpeed_data': 0.625}, 520),\n",
       " ({'attackSpeed_data': 0.669}, 520),\n",
       " ({'attackSpeed_data': 0.644}, 585),\n",
       " ({'attackSpeed_data': 0.658}, 560),\n",
       " ({'attackSpeed_data': 0.658}, 530),\n",
       " ({'attackSpeed_data': 0.658}, 537),\n",
       " ({'attackSpeed_data': 0.625}, 580),\n",
       " ({'attackSpeed_data': 0.638}, 550),\n",
       " ({'attackSpeed_data': 0.625}, 590),\n",
       " ({'attackSpeed_data': 0.625}, 526),\n",
       " ({'attackSpeed_data': 0.645}, 570),\n",
       " ({'attackSpeed_data': 0.697}, 490),\n",
       " ({'attackSpeed_data': 0.625}, 550),\n",
       " ({'attackSpeed_data': 0.625}, 580),\n",
       " ({'attackSpeed_data': 0.625}, 480),\n",
       " ({'attackSpeed_data': 0.736}, 615),\n",
       " ({'attackSpeed_data': 0.651}, 584),\n",
       " ({'attackSpeed_data': 0.656}, 536),\n",
       " ({'attackSpeed_data': 0.625}, 504),\n",
       " ({'attackSpeed_data': 0.625}, 560),\n",
       " ({'attackSpeed_data': 0.625}, 504)]"
      ]
     },
     "execution_count": 67,
     "metadata": {},
     "output_type": "execute_result"
    }
   ],
   "source": [
    "# using list comprehension\n",
    "# we are creating a list of tuples\n",
    "# \n",
    "feature_sets = [ (create_features(x), y) for x, y in features_and_labels ]\n",
    "feature_sets"
   ]
  },
  {
   "cell_type": "code",
   "execution_count": 68,
   "id": "c5e9973b",
   "metadata": {},
   "outputs": [],
   "source": [
    "import random\n",
    "random.shuffle(feature_sets)"
   ]
  },
  {
   "cell_type": "code",
   "execution_count": 69,
   "id": "26ffee2a",
   "metadata": {},
   "outputs": [
    {
     "data": {
      "text/plain": [
       "157"
      ]
     },
     "execution_count": 69,
     "metadata": {},
     "output_type": "execute_result"
    }
   ],
   "source": [
    "# determine what 80% of this number would look like\n",
    "len(feature_sets)"
   ]
  },
  {
   "cell_type": "code",
   "execution_count": 70,
   "id": "34843e44",
   "metadata": {},
   "outputs": [
    {
     "data": {
      "text/plain": [
       "125.60000000000001"
      ]
     },
     "execution_count": 70,
     "metadata": {},
     "output_type": "execute_result"
    }
   ],
   "source": [
    "# 80%\n",
    "157 * .8"
   ]
  },
  {
   "cell_type": "code",
   "execution_count": 71,
   "id": "08b3ed32",
   "metadata": {},
   "outputs": [],
   "source": [
    "# spliting our training set and testing set into a 80/20 ratio\n",
    "# training is about 'learning'\n",
    "# testing is to determine accuracy \n",
    "training_set = feature_sets[:125]\n",
    "testing_set = feature_sets[125:]"
   ]
  },
  {
   "cell_type": "code",
   "execution_count": 72,
   "id": "b9a8836f",
   "metadata": {},
   "outputs": [],
   "source": [
    "import nltk\n",
    "\n",
    "# build our first classifier!\n",
    "classifier = nltk.NaiveBayesClassifier.train(training_set)"
   ]
  },
  {
   "cell_type": "code",
   "execution_count": 73,
   "id": "7d6fce6f",
   "metadata": {},
   "outputs": [
    {
     "data": {
      "text/plain": [
       "560"
      ]
     },
     "execution_count": 73,
     "metadata": {},
     "output_type": "execute_result"
    }
   ],
   "source": [
    "# test out our classifier\n",
    "classifier.classify(create_features('62'))"
   ]
  },
  {
   "cell_type": "code",
   "execution_count": 74,
   "id": "6538e56a",
   "metadata": {
    "scrolled": true
   },
   "outputs": [
    {
     "name": "stdout",
     "output_type": "stream",
     "text": [
      "0.0625\n"
     ]
    }
   ],
   "source": [
    "# how accurate is our classifier?\n",
    "print(nltk.classify.accuracy(classifier, testing_set))"
   ]
  },
  {
   "cell_type": "code",
   "execution_count": 75,
   "id": "1c85db01",
   "metadata": {},
   "outputs": [
    {
     "name": "stdout",
     "output_type": "stream",
     "text": [
      "Most Informative Features\n",
      "        attackSpeed_data = 0.625             575 : 570    =      3.3 : 1.0\n",
      "        attackSpeed_data = 0.658             570 : 560    =      3.1 : 1.0\n",
      "        attackSpeed_data = 0.644             585 : 580    =      1.8 : 1.0\n",
      "        attackSpeed_data = 0.736             615 : 574    =      1.6 : 1.0\n",
      "        attackSpeed_data = 0.638             518 : 560    =      1.5 : 1.0\n",
      "        attackSpeed_data = 0.694             534 : 560    =      1.5 : 1.0\n",
      "        attackSpeed_data = 0.651             584 : 580    =      1.4 : 1.0\n",
      "        attackSpeed_data = 0.667             572 : 570    =      1.4 : 1.0\n",
      "        attackSpeed_data = 0.67              626 : 580    =      1.4 : 1.0\n",
      "        attackSpeed_data = 0.645             525 : 570    =      1.3 : 1.0\n",
      "        attackSpeed_data = 0.688             590 : 560    =      1.3 : 1.0\n",
      "        attackSpeed_data = 0.64              576 : 530    =      1.2 : 1.0\n"
     ]
    }
   ],
   "source": [
    "# show which features were most important for the algorithm\n",
    "classifier.show_most_informative_features(12)"
   ]
  },
  {
   "cell_type": "code",
   "execution_count": null,
   "id": "c37d3b20",
   "metadata": {},
   "outputs": [],
   "source": []
  },
  {
   "cell_type": "code",
   "execution_count": null,
   "id": "ef56e5fa",
   "metadata": {},
   "outputs": [],
   "source": []
  }
 ],
 "metadata": {
  "kernelspec": {
   "display_name": "Python 3 (ipykernel)",
   "language": "python",
   "name": "python3"
  },
  "language_info": {
   "codemirror_mode": {
    "name": "ipython",
    "version": 3
   },
   "file_extension": ".py",
   "mimetype": "text/x-python",
   "name": "python",
   "nbconvert_exporter": "python",
   "pygments_lexer": "ipython3",
   "version": "3.11.0"
  }
 },
 "nbformat": 4,
 "nbformat_minor": 5
}
